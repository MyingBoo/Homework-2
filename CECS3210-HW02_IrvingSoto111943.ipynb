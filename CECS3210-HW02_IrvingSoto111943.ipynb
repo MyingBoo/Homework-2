{
 "cells": [
  {
   "cell_type": "markdown",
   "metadata": {},
   "source": [
    "# CECS 3210 - Week 2 Assigment\n",
    "\n",
    "## This week coding exercises will cover topics discussed in Chapter 2.\n",
    "\n",
    "### Due date: see BB\n",
    "#### Remeber to submit your solutions on time."
   ]
  },
  {
   "cell_type": "markdown",
   "metadata": {},
   "source": [
    "***\n",
    "## Coding exercise \\#1\n",
    "\n",
    "Write a program that prints your name 5 times.<br>\n",
    "Ex:"
   ]
  },
  {
   "cell_type": "markdown",
   "metadata": {},
   "source": [
    "John Doe<br>John Doe<br>John Doe<br>John Doe<br>John Doe<br>"
   ]
  },
  {
   "cell_type": "code",
   "execution_count": null,
   "metadata": {},
   "outputs": [],
   "source": [
    "def main():\n",
    "    ### Replace with your own code here\n",
    "    pass\n",
    "\n",
    "main()"
   ]
  },
  {
   "cell_type": "markdown",
   "metadata": {},
   "source": [
    "***\n",
    "## Coding exercise \\#2\n",
    "\n",
    "Write a program that converts lbs to kgs. The user should enter his weight in pounds (lbs), and the program should output his weight in kilograms (kgs).\n",
    "<br>\n",
    "Ex:"
   ]
  },
  {
   "cell_type": "markdown",
   "metadata": {},
   "source": [
    "Enter your weight in pounds: 150<br>\n",
    "150 lbs = 68.0388555 kgs"
   ]
  },
  {
   "cell_type": "code",
   "execution_count": null,
   "metadata": {},
   "outputs": [],
   "source": [
    "def main():\n",
    "    ### Replace with your own code here\n",
    "    pass\n",
    "\n",
    "main()"
   ]
  },
  {
   "cell_type": "markdown",
   "metadata": {},
   "source": [
    "***\n",
    "## Coding exercise \\#3\n",
    "\n",
    "Write a program that determines whether the given 6 numbers are odd or even.<br> Hint: you may need to use a loop.\n",
    "<br>\n",
    "Ex:"
   ]
  },
  {
   "cell_type": "markdown",
   "metadata": {},
   "source": [
    "5<br>\n",
    "The number is odd.<br>\n",
    "0<br>\n",
    "The number is even.<br>\n",
    "938<br>\n",
    "The number is even.<br>\n",
    "20212<br>\n",
    "The number is even.<br>\n",
    "34<br>\n",
    "The number is even.<br>\n",
    "1029<br>\n",
    "The number is odd.<br>"
   ]
  },
  {
   "cell_type": "code",
   "execution_count": null,
   "metadata": {},
   "outputs": [],
   "source": [
    "def main():\n",
    "    ### Replace with your own code here\n",
    "    pass\n",
    "    \n",
    "main()"
   ]
  },
  {
   "cell_type": "markdown",
   "metadata": {},
   "source": [
    "***\n",
    "## Coding exercise \\#4\n",
    "\n",
    "Write a that calculates the total of a purchase. The program should ask the user for the retail price of the item and the sales tax rate. Once entered, the program should print the total amount to be paid with the description of the cost.<br>\n",
    "Ex:"
   ]
  },
  {
   "cell_type": "markdown",
   "metadata": {},
   "source": [
    "What is the retail price of the item? 150 <br>\n",
    "What is the sales tax? 0.115 <br>\n",
    "The total amount to be paid for the item is \\\\$167.25<br>\n",
    "The item price is \\\\$150, and the amount to be paid in taxes is \\\\$17.25<br>"
   ]
  },
  {
   "cell_type": "code",
   "execution_count": null,
   "metadata": {},
   "outputs": [],
   "source": [
    "def main():\n",
    "    retail_price = None # Replace all the 'None' with your own code\n",
    "    sales_tax = None\n",
    "    \n",
    "    tax_to_pay = None\n",
    "    final_price = None\n",
    "    \n",
    "    print(f'The total amount to be paid for the item is ${final_price}')\n",
    "    print(f'The retail price is ${retail_price}', end=\", \")\n",
    "    print(f'and the amount to be paid in taxes is ${tax_to_pay}')\n",
    "    \n",
    "main()"
   ]
  },
  {
   "cell_type": "markdown",
   "metadata": {},
   "source": [
    "***\n",
    "## Coding exercise \\#5\n",
    "\n",
    "Write a program to perform a unit conversion of your own choosing. Make sure that the program prints an introduction that explains what it does."
   ]
  },
  {
   "cell_type": "code",
   "execution_count": null,
   "metadata": {},
   "outputs": [],
   "source": [
    "def main():\n",
    "    ### Remeber, you MUST explain what conversion you choose.\n",
    "    ### Replace with your own code here\n",
    "    print('Explination')\n",
    "    pass\n",
    "    \n",
    "main()"
   ]
  },
  {
   "cell_type": "markdown",
   "metadata": {},
   "source": [
    "***\n",
    "## Coding exercise \\#6\n",
    "Write a program that stores the current path where this file is stored. The program should then print this path using a string variable. Finally, you must create a new sub-directory named \"solution_directory\" using the string variable path with the new directory name.\n",
    "<br><br>\n",
    "Note: For this exercise, it's highly recommended to review the Python documentation and see how to work with this task. As developers and data scientists, one must be able to search through the documentation of a programming language to learn what is offered and what can be used to solve the task at hand.<br><br>Documentation: https://docs.python.org/3/\n",
    "<br><br>\n",
    "Ex:"
   ]
  },
  {
   "cell_type": "markdown",
   "metadata": {},
   "source": [
    "Current directory: /Users/samuelmf/PycharmProjects/CECS3120-Assigments/venv/week_1<br>\n",
    "Directory created: /Users/samuelmf/PycharmProjects/CECS3120-Assigments/venv/week_1/solution_directory/\n"
   ]
  },
  {
   "cell_type": "code",
   "execution_count": null,
   "metadata": {},
   "outputs": [],
   "source": [
    "### Import necessary module (~approx. 1 line of code)\n",
    "def main():\n",
    "    pass\n",
    "    \n",
    "main()"
   ]
  },
  {
   "cell_type": "markdown",
   "metadata": {},
   "source": [
    "***\n",
    "## Coding exercise \\#7\n",
    "\n",
    "Write an interactive Python calculator program. The program should allow the user to type a mathematical expression, and then print the value of the expression. Include a loop so that the user can perform many calculations\n",
    "(say, up to 100). Note: To quit early, the user can make the program crash by typing a bad expression or simply closing the window that the calculator program is running in. You'll learn better ways of terminating interactive programs in later chapters."
   ]
  },
  {
   "cell_type": "markdown",
   "metadata": {},
   "source": [
    "How many expressions will the calculator do? 5 <br>\n",
    "Enter the expression to calculate this time: 4 * 2 + 1 <br>\n",
    "Expression - 1: 9<br>\n",
    "Enter the expression to calculate this time: 3 ** 2<br>\n",
    "Expression - 2: 9<br>\n",
    "Enter the expression to calculate this time: 10 ** 0.5 + 4<br>\n",
    "Expression - 3: 7.16227766016838<br>\n",
    "Enter the expression to calculate this time: 16 ** 0.5 + 1 == 5<br>\n",
    "Expression - 4: True<br>\n",
    "Enter the expression to calculate this time: 7 / 10 * 2 + 1<br>\n",
    "Expression - 5: 2.4<br>"
   ]
  },
  {
   "cell_type": "code",
   "execution_count": null,
   "metadata": {},
   "outputs": [],
   "source": [
    "def main():\n",
    "    ### Replace with your own code here\n",
    "    pass\n",
    "\n",
    "main()"
   ]
  }
 ],
 "metadata": {
  "hide_input": false,
  "kernelspec": {
   "display_name": "Python 3",
   "language": "python",
   "name": "python3"
  },
  "language_info": {
   "codemirror_mode": {
    "name": "ipython",
    "version": 3
   },
   "file_extension": ".py",
   "mimetype": "text/x-python",
   "name": "python",
   "nbconvert_exporter": "python",
   "pygments_lexer": "ipython3",
   "version": "3.7.1"
  }
 },
 "nbformat": 4,
 "nbformat_minor": 4
}
